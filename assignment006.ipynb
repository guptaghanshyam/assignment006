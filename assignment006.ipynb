{
 "cells": [
  {
   "attachments": {},
   "cell_type": "markdown",
   "metadata": {},
   "source": [
    "1.Write a program to accept percentage from the user and display the grade according to the following critaria"
   ]
  },
  {
   "cell_type": "code",
   "execution_count": 13,
   "metadata": {},
   "outputs": [
    {
     "name": "stdout",
     "output_type": "stream",
     "text": [
      "you got C Grade\n"
     ]
    }
   ],
   "source": [
    "marks=int(input(\"enter your marks : \"))\n",
    "if marks >90 and marks <=100 :\n",
    "    grade=\"A Grade\"\n",
    "elif marks >80 and marks <= 90 :\n",
    "   grade=\"B Grade\"\n",
    "elif marks >=60 and marks <=80 :\n",
    "    grade=\"C Grade\"\n",
    "elif marks <60 :\n",
    "    grade=\"D Grade\"\n",
    "else:\n",
    "    grade=\"F Grade\"\n",
    "\n",
    "print(\"you got\",grade)\n"
   ]
  },
  {
   "attachments": {},
   "cell_type": "markdown",
   "metadata": {},
   "source": [
    "2.write a program to accept the cost price of a bike and display the road tax to be paid according to the following criteria:"
   ]
  },
  {
   "cell_type": "code",
   "execution_count": 18,
   "metadata": {},
   "outputs": [
    {
     "name": "stdout",
     "output_type": "stream",
     "text": [
      "the road tax to be paid is : 18000.0\n"
     ]
    }
   ],
   "source": [
    "cost_price=float(input(\"enter the cost price of the bike :\"))\n",
    "\n",
    "if cost_price<=50000 :\n",
    "    road_tax =.005 *cost_price\n",
    "elif cost_price > 50000 and cost_price<=100000 :\n",
    "    road_tax =.1 *cost_price\n",
    "else :\n",
    "    road_tax =.15 *cost_price\n",
    "\n",
    "print(\"the road tax to be paid is :\",road_tax)"
   ]
  },
  {
   "attachments": {},
   "cell_type": "markdown",
   "metadata": {},
   "source": [
    "3.Accept any city from the user and display monuments of that city."
   ]
  },
  {
   "cell_type": "code",
   "execution_count": 35,
   "metadata": {},
   "outputs": [
    {
     "name": "stdout",
     "output_type": "stream",
     "text": [
      "Monuments in Delhi :\n",
      "-  Red Fort\n"
     ]
    }
   ],
   "source": [
    "monuments = {\n",
    "    'Delhi': ['Red Fort'],\n",
    "    'Agra': ['Taj Mahal'],\n",
    "    'Jaipur': ['Jal Mahal']\n",
    "}\n",
    "\n",
    "city = input(\"Enter a city: \")\n",
    "\n",
    "if city in monuments:\n",
    "    print(\"Monuments in\", city, \":\")\n",
    "    for monument in monuments[city]:\n",
    "        print(\"- \", monument)\n",
    "else:\n",
    "    print(\"Sorry, we don't have any monuments listed for that city.\")"
   ]
  },
  {
   "attachments": {},
   "cell_type": "markdown",
   "metadata": {},
   "source": [
    "4.check how many times the given number is divisible by 3 before its less than or equal to 10."
   ]
  },
  {
   "cell_type": "code",
   "execution_count": 13,
   "metadata": {},
   "outputs": [
    {
     "name": "stdout",
     "output_type": "stream",
     "text": [
      "9  is divisible by 3 1 times  before it becomes less than or equal to 10\n"
     ]
    }
   ],
   "source": [
    "n=int(input(\"enter the number :\"))\n",
    "count=0\n",
    "while n > 10 :\n",
    "    if n % 3 == 0:\n",
    "        count+=1\n",
    "    n//=3\n",
    "print( n ,\" is divisible by 3\" , count ,\"times  before it becomes less than or equal to 10\")        "
   ]
  },
  {
   "attachments": {},
   "cell_type": "markdown",
   "metadata": {},
   "source": [
    "5.why and when to use while loop give a detailed description with example ?"
   ]
  },
  {
   "attachments": {},
   "cell_type": "markdown",
   "metadata": {},
   "source": [
    "Ans :\n",
    "A while loop is a control flow statement that allows a section of code to be repeated while a certain condition is true. The syntax of a while loop in most programming languages is as follows:\n",
    "\n",
    "while condition :\n",
    "\n",
    "The condition is checked at the beginning of each iteration of the loop. If the condition is true, the code inside the loop is executed, and the loop continues. If the condition is false, the loop exits and the program continues with the code following the loop"
   ]
  },
  {
   "cell_type": "code",
   "execution_count": 16,
   "metadata": {},
   "outputs": [
    {
     "name": "stdout",
     "output_type": "stream",
     "text": [
      "1\n",
      "2\n",
      "3\n",
      "4\n",
      "5\n",
      "6\n",
      "7\n",
      "8\n",
      "9\n",
      "10\n"
     ]
    }
   ],
   "source": [
    "n=1\n",
    "while n<=10 :\n",
    "    print(n)\n",
    "    n+=1"
   ]
  },
  {
   "attachments": {},
   "cell_type": "markdown",
   "metadata": {},
   "source": [
    "6.use nested while loop to print 3 different patterns."
   ]
  },
  {
   "cell_type": "code",
   "execution_count": 19,
   "metadata": {},
   "outputs": [
    {
     "name": "stdout",
     "output_type": "stream",
     "text": [
      "*\n",
      "**\n",
      "***\n",
      "****\n",
      "*****\n"
     ]
    }
   ],
   "source": [
    "i=1\n",
    "while i<=5 :\n",
    "    j=1\n",
    "    while j<=i:\n",
    "        print(\"*\" , end=\"\")\n",
    "        j+=1\n",
    "    print()\n",
    "    i=i+1    \n",
    "\n",
    "  "
   ]
  },
  {
   "cell_type": "code",
   "execution_count": 21,
   "metadata": {},
   "outputs": [
    {
     "name": "stdout",
     "output_type": "stream",
     "text": [
      "*****\n",
      "****\n",
      "***\n",
      "**\n",
      "*\n"
     ]
    }
   ],
   "source": [
    "i = 5\n",
    "while i >= 1:\n",
    "    j = 1\n",
    "    while j <= i:\n",
    "        print(\"*\", end=\"\")\n",
    "        j += 1\n",
    "    print()\n",
    "    i -= 1\n"
   ]
  },
  {
   "cell_type": "code",
   "execution_count": 27,
   "metadata": {},
   "outputs": [
    {
     "name": "stdout",
     "output_type": "stream",
     "text": [
      "    *\n",
      "   ***\n",
      "  *****\n",
      " *******\n",
      "*********\n"
     ]
    }
   ],
   "source": [
    "i=1\n",
    "while i<=5:\n",
    "    j=1\n",
    "    while j<=5 - i:\n",
    "        print(\" \" , end=\"\")\n",
    "        j+=1\n",
    "    k =1\n",
    "    while k <=2*i-1:\n",
    "        print(\"*\" , end=\"\")\n",
    "        k+=1\n",
    "    print()\n",
    "    i+=1          \n",
    "    "
   ]
  },
  {
   "attachments": {},
   "cell_type": "markdown",
   "metadata": {},
   "source": [
    "7.Reverse a while loop to display numbers from 10 to 1"
   ]
  },
  {
   "cell_type": "code",
   "execution_count": 31,
   "metadata": {},
   "outputs": [
    {
     "name": "stdout",
     "output_type": "stream",
     "text": [
      "10\n",
      "9\n",
      "8\n",
      "7\n",
      "6\n",
      "5\n",
      "4\n",
      "3\n",
      "2\n",
      "1\n"
     ]
    }
   ],
   "source": [
    "n=10\n",
    "while n>=1:\n",
    "    print(n)\n",
    "    n-=1"
   ]
  },
  {
   "attachments": {},
   "cell_type": "markdown",
   "metadata": {},
   "source": [
    "8.Reverse a while loop to display numbers from 10 to 1"
   ]
  },
  {
   "cell_type": "code",
   "execution_count": 32,
   "metadata": {},
   "outputs": [
    {
     "name": "stdout",
     "output_type": "stream",
     "text": [
      "10\n",
      "9\n",
      "8\n",
      "7\n",
      "6\n",
      "5\n",
      "4\n",
      "3\n",
      "2\n",
      "1\n"
     ]
    }
   ],
   "source": [
    "i=10\n",
    "while i>=1:\n",
    "    print(i)\n",
    "    i-=1"
   ]
  },
  {
   "cell_type": "code",
   "execution_count": null,
   "metadata": {},
   "outputs": [],
   "source": []
  }
 ],
 "metadata": {
  "kernelspec": {
   "display_name": "base",
   "language": "python",
   "name": "python3"
  },
  "language_info": {
   "codemirror_mode": {
    "name": "ipython",
    "version": 3
   },
   "file_extension": ".py",
   "mimetype": "text/x-python",
   "name": "python",
   "nbconvert_exporter": "python",
   "pygments_lexer": "ipython3",
   "version": "3.10.9"
  },
  "orig_nbformat": 4
 },
 "nbformat": 4,
 "nbformat_minor": 2
}
